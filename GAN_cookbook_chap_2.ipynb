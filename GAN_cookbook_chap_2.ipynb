{
  "nbformat": 4,
  "nbformat_minor": 0,
  "metadata": {
    "colab": {
      "provenance": [],
      "gpuType": "T4"
    },
    "kernelspec": {
      "name": "python3",
      "display_name": "Python 3"
    },
    "language_info": {
      "name": "python"
    }
  },
  "cells": [
    {
      "cell_type": "markdown",
      "source": [
        "# GAN Cookbook Chapter 1 and 2 takeaways"
      ],
      "metadata": {
        "id": "u-nyi4s_fjLg"
      }
    },
    {
      "cell_type": "markdown",
      "source": [
        "## Chapter 1"
      ],
      "metadata": {
        "id": "2wx5elkXhfku"
      }
    },
    {
      "cell_type": "code",
      "source": [
        "# Template for Generator\n",
        "\n",
        "# class Generator:\n",
        "#   def __init__(self):\n",
        "#     self.initVariable = 1\n",
        "\n",
        "#   def lossFunction(self):\n",
        "\n",
        "#     return\n",
        "\n",
        "#   def buildModel(self):\n",
        "\n",
        "#     return\n",
        "\n",
        "#   def trainModel(self, input_x, input_y):\n",
        "\n",
        "#     return"
      ],
      "metadata": {
        "id": "q1FbQ2VDfzTi"
      },
      "execution_count": null,
      "outputs": []
    },
    {
      "cell_type": "code",
      "source": [
        "# Template for Discriminator\n",
        "\n",
        "# class Discriminator:\n",
        "#   def __init__(self):\n",
        "#     self.initVariable=1\n",
        "\n",
        "#   def lossFunction(self):\n",
        "\n",
        "#     return\n",
        "\n",
        "#   def buildModel(self):\n",
        "\n",
        "#     return\n",
        "\n",
        "#   def trainModel(self, input_x, input_y):\n",
        "\n",
        "#     return"
      ],
      "metadata": {
        "id": "90d23nUTgqY0"
      },
      "execution_count": null,
      "outputs": []
    },
    {
      "cell_type": "code",
      "source": [
        "# Template for loss\n",
        "\n",
        "# class Loss:\n",
        "#   def __init__(self):\n",
        "#     self.initVariable =1\n",
        "\n",
        "#   def lossBaseFunction1(self):\n",
        "\n",
        "#     return\n",
        "\n",
        "#   def lossBaseFunction2(self):\n",
        "\n",
        "#     return\n",
        "\n",
        "#   def lossBaseFunction3(self):\n",
        "\n",
        "#     return"
      ],
      "metadata": {
        "id": "JBDhH4dvhKBV"
      },
      "execution_count": null,
      "outputs": []
    },
    {
      "cell_type": "markdown",
      "source": [
        "## Chapter 2"
      ],
      "metadata": {
        "id": "QProBAVihldt"
      }
    },
    {
      "cell_type": "markdown",
      "source": [
        "Take your time to preprocess the data, ensuring that the data we're using encompasses the entire trade space of possibilities for our application\n",
        "\n",
        "Data Pipeline:\n",
        "  1. Data preprocessing\n",
        "  2. Balancing data\n",
        "  3. Anomalous data\n",
        "  4. Data augmentation"
      ],
      "metadata": {
        "id": "lzZZn_l6hof2"
      }
    },
    {
      "cell_type": "markdown",
      "source": [
        "The steps for producing a data processing pipeline\n",
        "  1. Read in data as NumPy array\n",
        "  2. Check the distribution of the data for anomalous indices\n",
        "  3. Balance the dataset for the learning step\n",
        "  4. Throw out the anomalous data\n",
        "  5. Augment our data in an Structured and intelligent manner"
      ],
      "metadata": {
        "id": "Q_UALn-kiQif"
      }
    },
    {
      "cell_type": "code",
      "source": [
        "!docker volume ls -q -f driver=nvidia-docker | xargs -r -I{} -n1 docker ps -q -a -f volume={} | xargs -r docker rm -f\n",
        "!sudo apt-get purge -y nvidia-docker"
      ],
      "metadata": {
        "colab": {
          "base_uri": "https://localhost:8080/"
        },
        "id": "cVKbBR5ShJUV",
        "outputId": "3ab63ef0-981a-4273-92ad-f0fa334be7bb"
      },
      "execution_count": 1,
      "outputs": [
        {
          "output_type": "stream",
          "name": "stdout",
          "text": [
            "/bin/bash: docker: command not found\n",
            "Reading package lists... Done\n",
            "Building dependency tree       \n",
            "Reading state information... Done\n",
            "Package 'nvidia-docker' is not installed, so not removed\n",
            "0 upgraded, 0 newly installed, 0 to remove and 15 not upgraded.\n"
          ]
        }
      ]
    },
    {
      "cell_type": "code",
      "source": [
        "!curl -s -L https://nvidia.github.io/nvidia-docker/gpgkey | \\sudo apt-key add -distribution=$(./etc/tos-release;echo $ID$VERSION_ID)\n",
        "!curl -s -L https://nvidia.github.io/nvidia-docker/$distribution/nvidia-docker.list | \\sudo tee /etc/apt/sources.list.d/nvidia-docker.list\n",
        "!sudo apt-get update"
      ],
      "metadata": {
        "id": "8r_WKwBNjE8L",
        "colab": {
          "base_uri": "https://localhost:8080/"
        },
        "outputId": "c737a065-9b96-410c-cf19-23989829725f"
      },
      "execution_count": 2,
      "outputs": [
        {
          "output_type": "stream",
          "name": "stdout",
          "text": [
            "/bin/bash: ./etc/tos-release: No such file or directory\n",
            "gpg: conflicting commands\n",
            "(23) Failed writing body\n",
            "# Unsupported distribution!\n",
            "# Check https://nvidia.github.io/nvidia-docker\n",
            "Get:1 https://cloud.r-project.org/bin/linux/ubuntu focal-cran40/ InRelease [3,622 B]\n",
            "Hit:2 https://developer.download.nvidia.com/compute/cuda/repos/ubuntu2004/x86_64  InRelease\n",
            "Get:3 https://cloud.r-project.org/bin/linux/ubuntu focal-cran40/ Packages [82.8 kB]\n",
            "Get:4 http://security.ubuntu.com/ubuntu focal-security InRelease [114 kB]\n",
            "Get:5 http://ppa.launchpad.net/c2d4u.team/c2d4u4.0+/ubuntu focal InRelease [18.1 kB]\n",
            "Hit:6 http://archive.ubuntu.com/ubuntu focal InRelease\n",
            "Get:7 http://archive.ubuntu.com/ubuntu focal-updates InRelease [114 kB]\n",
            "Hit:8 http://ppa.launchpad.net/cran/libgit2/ubuntu focal InRelease\n",
            "Hit:9 http://ppa.launchpad.net/deadsnakes/ppa/ubuntu focal InRelease\n",
            "Get:10 http://security.ubuntu.com/ubuntu focal-security/main amd64 Packages [2,866 kB]\n",
            "Get:11 http://archive.ubuntu.com/ubuntu focal-backports InRelease [108 kB]\n",
            "Hit:12 http://ppa.launchpad.net/graphics-drivers/ppa/ubuntu focal InRelease\n",
            "Get:13 http://archive.ubuntu.com/ubuntu focal-updates/multiverse amd64 Packages [40.2 kB]\n",
            "Get:14 http://archive.ubuntu.com/ubuntu focal-updates/main amd64 Packages [3,346 kB]\n",
            "Hit:15 http://ppa.launchpad.net/ubuntugis/ppa/ubuntu focal InRelease\n",
            "Get:16 http://ppa.launchpad.net/c2d4u.team/c2d4u4.0+/ubuntu focal/main Sources [2,604 kB]\n",
            "Get:17 http://security.ubuntu.com/ubuntu focal-security/universe amd64 Packages [1,070 kB]\n",
            "Get:18 http://archive.ubuntu.com/ubuntu focal-updates/universe amd64 Packages [1,369 kB]\n",
            "Get:19 http://security.ubuntu.com/ubuntu focal-security/restricted amd64 Packages [2,529 kB]\n",
            "Get:20 http://archive.ubuntu.com/ubuntu focal-updates/restricted amd64 Packages [2,670 kB]\n",
            "Get:21 http://security.ubuntu.com/ubuntu focal-security/multiverse amd64 Packages [37.5 kB]\n",
            "Get:22 http://ppa.launchpad.net/c2d4u.team/c2d4u4.0+/ubuntu focal/main amd64 Packages [1,229 kB]\n",
            "Fetched 18.2 MB in 5s (3,352 kB/s)\n",
            "Reading package lists... Done\n"
          ]
        }
      ]
    },
    {
      "cell_type": "code",
      "source": [
        "!sudo apt-get install -y nvidia-docker2\n",
        "!sudo pkill -SIGHUP dockerd"
      ],
      "metadata": {
        "colab": {
          "base_uri": "https://localhost:8080/"
        },
        "id": "TGOfIgsZx6Et",
        "outputId": "bd6d2fac-afac-47ff-87ee-4d760233e64e"
      },
      "execution_count": 3,
      "outputs": [
        {
          "output_type": "stream",
          "name": "stdout",
          "text": [
            "Reading package lists... Done\n",
            "Building dependency tree       \n",
            "Reading state information... Done\n",
            "The following additional packages will be installed:\n",
            "  apparmor bridge-utils containerd dns-root-data dnsmasq-base docker.io\n",
            "  iptables libidn11 libip6tc2 libnetfilter-conntrack3 libnfnetlink0 libnftnl11\n",
            "  libnvidia-container-tools libnvidia-container1 netbase netcat netcat-openbsd\n",
            "  nvidia-container-toolkit nvidia-container-toolkit-base pigz runc ubuntu-fan\n",
            "Suggested packages:\n",
            "  apparmor-profiles-extra apparmor-utils ifupdown aufs-tools btrfs-progs\n",
            "  cgroupfs-mount | cgroup-lite debootstrap docker-doc rinse zfs-fuse\n",
            "  | zfsutils firewalld nftables\n",
            "The following NEW packages will be installed:\n",
            "  apparmor bridge-utils containerd dns-root-data dnsmasq-base docker.io\n",
            "  iptables libidn11 libip6tc2 libnetfilter-conntrack3 libnfnetlink0 libnftnl11\n",
            "  libnvidia-container-tools libnvidia-container1 netbase netcat netcat-openbsd\n",
            "  nvidia-container-toolkit nvidia-container-toolkit-base nvidia-docker2 pigz\n",
            "  runc ubuntu-fan\n",
            "0 upgraded, 23 newly installed, 0 to remove and 24 not upgraded.\n",
            "Need to get 71.2 MB of archives.\n",
            "After this operation, 314 MB of additional disk space will be used.\n",
            "Get:1 https://developer.download.nvidia.com/compute/cuda/repos/ubuntu2004/x86_64  libnvidia-container1 1.13.3-1 [930 kB]\n",
            "Get:2 https://developer.download.nvidia.com/compute/cuda/repos/ubuntu2004/x86_64  libnvidia-container-tools 1.13.3-1 [26.2 kB]\n",
            "Get:3 https://developer.download.nvidia.com/compute/cuda/repos/ubuntu2004/x86_64  nvidia-container-toolkit-base 1.13.3-1 [2,244 kB]\n",
            "Get:4 https://developer.download.nvidia.com/compute/cuda/repos/ubuntu2004/x86_64  nvidia-container-toolkit 1.13.3-1 [855 kB]\n",
            "Get:5 https://developer.download.nvidia.com/compute/cuda/repos/ubuntu2004/x86_64  nvidia-docker2 2.13.0-1 [6,876 B]\n",
            "Get:6 http://archive.ubuntu.com/ubuntu focal/universe amd64 pigz amd64 2.4-1 [57.4 kB]\n",
            "Get:7 http://archive.ubuntu.com/ubuntu focal/main amd64 netbase all 6.1 [13.1 kB]\n",
            "Get:8 http://archive.ubuntu.com/ubuntu focal/main amd64 netcat-openbsd amd64 1.206-1ubuntu1 [37.8 kB]\n",
            "Get:9 http://archive.ubuntu.com/ubuntu focal-updates/main amd64 apparmor amd64 2.13.3-7ubuntu5.2 [502 kB]\n",
            "Get:10 http://archive.ubuntu.com/ubuntu focal-updates/main amd64 libip6tc2 amd64 1.8.4-3ubuntu2.1 [19.4 kB]\n",
            "Get:11 http://archive.ubuntu.com/ubuntu focal/main amd64 libnfnetlink0 amd64 1.0.1-3build1 [13.8 kB]\n",
            "Get:12 http://archive.ubuntu.com/ubuntu focal/main amd64 libnetfilter-conntrack3 amd64 1.0.7-2 [41.4 kB]\n",
            "Get:13 http://archive.ubuntu.com/ubuntu focal/main amd64 libnftnl11 amd64 1.1.5-1 [57.8 kB]\n",
            "Get:14 http://archive.ubuntu.com/ubuntu focal-updates/main amd64 iptables amd64 1.8.4-3ubuntu2.1 [390 kB]\n",
            "Get:15 http://archive.ubuntu.com/ubuntu focal/main amd64 bridge-utils amd64 1.6-2ubuntu1 [30.5 kB]\n",
            "Get:16 http://archive.ubuntu.com/ubuntu focal-updates/main amd64 runc amd64 1.1.4-0ubuntu1~20.04.3 [3,819 kB]\n",
            "Get:17 http://archive.ubuntu.com/ubuntu focal-updates/main amd64 containerd amd64 1.6.12-0ubuntu1~20.04.3 [31.4 MB]\n",
            "Get:18 http://archive.ubuntu.com/ubuntu focal/main amd64 dns-root-data all 2019052802 [5,300 B]\n",
            "Get:19 http://archive.ubuntu.com/ubuntu focal/main amd64 libidn11 amd64 1.33-2.2ubuntu2 [46.2 kB]\n",
            "Get:20 http://archive.ubuntu.com/ubuntu focal-updates/main amd64 dnsmasq-base amd64 2.80-1.1ubuntu1.7 [315 kB]\n",
            "Get:21 http://archive.ubuntu.com/ubuntu focal-updates/universe amd64 docker.io amd64 20.10.21-0ubuntu1~20.04.2 [30.3 MB]\n",
            "Get:22 http://archive.ubuntu.com/ubuntu focal/universe amd64 netcat all 1.206-1ubuntu1 [2,172 B]\n",
            "Get:23 http://archive.ubuntu.com/ubuntu focal-updates/main amd64 ubuntu-fan all 0.12.13ubuntu0.1 [34.4 kB]\n",
            "Fetched 71.2 MB in 8s (8,673 kB/s)\n",
            "debconf: unable to initialize frontend: Dialog\n",
            "debconf: (No usable dialog-like program is installed, so the dialog based frontend cannot be used. at /usr/share/perl5/Debconf/FrontEnd/Dialog.pm line 76, <> line 23.)\n",
            "debconf: falling back to frontend: Readline\n",
            "debconf: unable to initialize frontend: Readline\n",
            "debconf: (This frontend requires a controlling tty.)\n",
            "debconf: falling back to frontend: Teletype\n",
            "dpkg-preconfigure: unable to re-open stdin: \n",
            "Selecting previously unselected package pigz.\n",
            "(Reading database ... 123105 files and directories currently installed.)\n",
            "Preparing to unpack .../00-pigz_2.4-1_amd64.deb ...\n",
            "Unpacking pigz (2.4-1) ...\n",
            "Selecting previously unselected package netbase.\n",
            "Preparing to unpack .../01-netbase_6.1_all.deb ...\n",
            "Unpacking netbase (6.1) ...\n",
            "Selecting previously unselected package netcat-openbsd.\n",
            "Preparing to unpack .../02-netcat-openbsd_1.206-1ubuntu1_amd64.deb ...\n",
            "Unpacking netcat-openbsd (1.206-1ubuntu1) ...\n",
            "Selecting previously unselected package apparmor.\n",
            "Preparing to unpack .../03-apparmor_2.13.3-7ubuntu5.2_amd64.deb ...\n",
            "Unpacking apparmor (2.13.3-7ubuntu5.2) ...\n",
            "Selecting previously unselected package libip6tc2:amd64.\n",
            "Preparing to unpack .../04-libip6tc2_1.8.4-3ubuntu2.1_amd64.deb ...\n",
            "Unpacking libip6tc2:amd64 (1.8.4-3ubuntu2.1) ...\n",
            "Selecting previously unselected package libnfnetlink0:amd64.\n",
            "Preparing to unpack .../05-libnfnetlink0_1.0.1-3build1_amd64.deb ...\n",
            "Unpacking libnfnetlink0:amd64 (1.0.1-3build1) ...\n",
            "Selecting previously unselected package libnetfilter-conntrack3:amd64.\n",
            "Preparing to unpack .../06-libnetfilter-conntrack3_1.0.7-2_amd64.deb ...\n",
            "Unpacking libnetfilter-conntrack3:amd64 (1.0.7-2) ...\n",
            "Selecting previously unselected package libnftnl11:amd64.\n",
            "Preparing to unpack .../07-libnftnl11_1.1.5-1_amd64.deb ...\n",
            "Unpacking libnftnl11:amd64 (1.1.5-1) ...\n",
            "Selecting previously unselected package iptables.\n",
            "Preparing to unpack .../08-iptables_1.8.4-3ubuntu2.1_amd64.deb ...\n",
            "Unpacking iptables (1.8.4-3ubuntu2.1) ...\n",
            "Selecting previously unselected package bridge-utils.\n",
            "Preparing to unpack .../09-bridge-utils_1.6-2ubuntu1_amd64.deb ...\n",
            "Unpacking bridge-utils (1.6-2ubuntu1) ...\n",
            "Selecting previously unselected package runc.\n",
            "Preparing to unpack .../10-runc_1.1.4-0ubuntu1~20.04.3_amd64.deb ...\n",
            "Unpacking runc (1.1.4-0ubuntu1~20.04.3) ...\n",
            "Selecting previously unselected package containerd.\n",
            "Preparing to unpack .../11-containerd_1.6.12-0ubuntu1~20.04.3_amd64.deb ...\n",
            "Unpacking containerd (1.6.12-0ubuntu1~20.04.3) ...\n",
            "Selecting previously unselected package dns-root-data.\n",
            "Preparing to unpack .../12-dns-root-data_2019052802_all.deb ...\n",
            "Unpacking dns-root-data (2019052802) ...\n",
            "Selecting previously unselected package libidn11:amd64.\n",
            "Preparing to unpack .../13-libidn11_1.33-2.2ubuntu2_amd64.deb ...\n",
            "Unpacking libidn11:amd64 (1.33-2.2ubuntu2) ...\n",
            "Selecting previously unselected package dnsmasq-base.\n",
            "Preparing to unpack .../14-dnsmasq-base_2.80-1.1ubuntu1.7_amd64.deb ...\n",
            "Unpacking dnsmasq-base (2.80-1.1ubuntu1.7) ...\n",
            "Selecting previously unselected package docker.io.\n",
            "Preparing to unpack .../15-docker.io_20.10.21-0ubuntu1~20.04.2_amd64.deb ...\n",
            "Unpacking docker.io (20.10.21-0ubuntu1~20.04.2) ...\n",
            "Selecting previously unselected package libnvidia-container1:amd64.\n",
            "Preparing to unpack .../16-libnvidia-container1_1.13.3-1_amd64.deb ...\n",
            "Unpacking libnvidia-container1:amd64 (1.13.3-1) ...\n",
            "Selecting previously unselected package libnvidia-container-tools.\n",
            "Preparing to unpack .../17-libnvidia-container-tools_1.13.3-1_amd64.deb ...\n",
            "Unpacking libnvidia-container-tools (1.13.3-1) ...\n",
            "Selecting previously unselected package netcat.\n",
            "Preparing to unpack .../18-netcat_1.206-1ubuntu1_all.deb ...\n",
            "Unpacking netcat (1.206-1ubuntu1) ...\n",
            "Selecting previously unselected package nvidia-container-toolkit-base.\n",
            "Preparing to unpack .../19-nvidia-container-toolkit-base_1.13.3-1_amd64.deb ...\n",
            "Unpacking nvidia-container-toolkit-base (1.13.3-1) ...\n",
            "Selecting previously unselected package nvidia-container-toolkit.\n",
            "Preparing to unpack .../20-nvidia-container-toolkit_1.13.3-1_amd64.deb ...\n",
            "Unpacking nvidia-container-toolkit (1.13.3-1) ...\n",
            "Selecting previously unselected package nvidia-docker2.\n",
            "Preparing to unpack .../21-nvidia-docker2_2.13.0-1_all.deb ...\n",
            "Unpacking nvidia-docker2 (2.13.0-1) ...\n",
            "Selecting previously unselected package ubuntu-fan.\n",
            "Preparing to unpack .../22-ubuntu-fan_0.12.13ubuntu0.1_all.deb ...\n",
            "Unpacking ubuntu-fan (0.12.13ubuntu0.1) ...\n",
            "Setting up libip6tc2:amd64 (1.8.4-3ubuntu2.1) ...\n",
            "Setting up netcat-openbsd (1.206-1ubuntu1) ...\n",
            "update-alternatives: using /bin/nc.openbsd to provide /bin/nc (nc) in auto mode\n",
            "Setting up libnftnl11:amd64 (1.1.5-1) ...\n",
            "Setting up netcat (1.206-1ubuntu1) ...\n",
            "Setting up nvidia-container-toolkit-base (1.13.3-1) ...\n",
            "Setting up runc (1.1.4-0ubuntu1~20.04.3) ...\n",
            "Setting up dns-root-data (2019052802) ...\n",
            "Setting up apparmor (2.13.3-7ubuntu5.2) ...\n",
            "debconf: unable to initialize frontend: Dialog\n",
            "debconf: (No usable dialog-like program is installed, so the dialog based frontend cannot be used. at /usr/share/perl5/Debconf/FrontEnd/Dialog.pm line 76.)\n",
            "debconf: falling back to frontend: Readline\n",
            "Created symlink /etc/systemd/system/sysinit.target.wants/apparmor.service → /lib/systemd/system/apparmor.service.\n",
            "Setting up libnvidia-container1:amd64 (1.13.3-1) ...\n",
            "Setting up libidn11:amd64 (1.33-2.2ubuntu2) ...\n",
            "Setting up bridge-utils (1.6-2ubuntu1) ...\n",
            "debconf: unable to initialize frontend: Dialog\n",
            "debconf: (No usable dialog-like program is installed, so the dialog based frontend cannot be used. at /usr/share/perl5/Debconf/FrontEnd/Dialog.pm line 76.)\n",
            "debconf: falling back to frontend: Readline\n",
            "Setting up libnvidia-container-tools (1.13.3-1) ...\n",
            "Setting up pigz (2.4-1) ...\n",
            "Setting up libnfnetlink0:amd64 (1.0.1-3build1) ...\n",
            "Setting up netbase (6.1) ...\n",
            "Setting up containerd (1.6.12-0ubuntu1~20.04.3) ...\n",
            "Created symlink /etc/systemd/system/multi-user.target.wants/containerd.service → /lib/systemd/system/containerd.service.\n",
            "Setting up nvidia-container-toolkit (1.13.3-1) ...\n",
            "Setting up libnetfilter-conntrack3:amd64 (1.0.7-2) ...\n",
            "Setting up iptables (1.8.4-3ubuntu2.1) ...\n",
            "update-alternatives: using /usr/sbin/iptables-legacy to provide /usr/sbin/iptables (iptables) in auto mode\n",
            "update-alternatives: using /usr/sbin/ip6tables-legacy to provide /usr/sbin/ip6tables (ip6tables) in auto mode\n",
            "update-alternatives: using /usr/sbin/arptables-nft to provide /usr/sbin/arptables (arptables) in auto mode\n",
            "update-alternatives: using /usr/sbin/ebtables-nft to provide /usr/sbin/ebtables (ebtables) in auto mode\n",
            "Setting up docker.io (20.10.21-0ubuntu1~20.04.2) ...\n",
            "debconf: unable to initialize frontend: Dialog\n",
            "debconf: (No usable dialog-like program is installed, so the dialog based frontend cannot be used. at /usr/share/perl5/Debconf/FrontEnd/Dialog.pm line 76.)\n",
            "debconf: falling back to frontend: Readline\n",
            "Adding group `docker' (GID 108) ...\n",
            "Done.\n",
            "Created symlink /etc/systemd/system/multi-user.target.wants/docker.service → /lib/systemd/system/docker.service.\n",
            "Created symlink /etc/systemd/system/sockets.target.wants/docker.socket → /lib/systemd/system/docker.socket.\n",
            "invoke-rc.d: unknown initscript, /etc/init.d/docker not found.\n",
            "invoke-rc.d: could not determine current runlevel\n",
            "Setting up dnsmasq-base (2.80-1.1ubuntu1.7) ...\n",
            "Setting up nvidia-docker2 (2.13.0-1) ...\n",
            "Setting up ubuntu-fan (0.12.13ubuntu0.1) ...\n",
            "Created symlink /etc/systemd/system/multi-user.target.wants/ubuntu-fan.service → /lib/systemd/system/ubuntu-fan.service.\n",
            "invoke-rc.d: could not determine current runlevel\n",
            "invoke-rc.d: policy-rc.d denied execution of start.\n",
            "Processing triggers for systemd (245.4-4ubuntu3.22) ...\n",
            "Processing triggers for man-db (2.9.1-1) ...\n",
            "Processing triggers for dbus (1.12.16-2ubuntu2.3) ...\n",
            "Processing triggers for libc-bin (2.31-0ubuntu9.9) ...\n"
          ]
        }
      ]
    },
    {
      "cell_type": "code",
      "source": [
        "!docker run --runtime=nvidia --rm nvidia/cuda nvidia-smi"
      ],
      "metadata": {
        "colab": {
          "base_uri": "https://localhost:8080/"
        },
        "id": "SA2AQxTEyH2M",
        "outputId": "87bc8fc7-262f-4058-c09b-be5e271d91ef"
      },
      "execution_count": 4,
      "outputs": [
        {
          "output_type": "stream",
          "name": "stdout",
          "text": [
            "docker: Cannot connect to the Docker daemon at unix:///var/run/docker.sock. Is the docker daemon running?.\n",
            "See 'docker run --help'.\n"
          ]
        }
      ]
    },
    {
      "cell_type": "code",
      "source": [
        "from google.colab import drive\n",
        "drive.mount('/content/drive')"
      ],
      "metadata": {
        "colab": {
          "base_uri": "https://localhost:8080/"
        },
        "id": "-VX1p_5MyW-M",
        "outputId": "dc3b62e3-2c49-4d72-dea6-6db95ae09b57"
      },
      "execution_count": 1,
      "outputs": [
        {
          "output_type": "stream",
          "name": "stdout",
          "text": [
            "Mounted at /content/drive\n"
          ]
        }
      ]
    },
    {
      "cell_type": "code",
      "source": [
        "import numpy as np\n",
        "import pandas as pd\n",
        "import matplotlib.pyplot as plt"
      ],
      "metadata": {
        "id": "2WOZie3uyiHX"
      },
      "execution_count": 2,
      "outputs": []
    },
    {
      "cell_type": "code",
      "source": [
        "df0 = pd.read_csv('/content/drive/MyDrive/UCI_ML_Income_data/adult.data', names = ['age', 'workclass',\n",
        "                      'fnlwgt', 'education', 'education-num', 'marital-status', 'occupation', 'relationship', 'race',\n",
        "                       'sex', 'capital-gain', 'capital-loss', 'hours-per-week', 'native-country','Label'])\n",
        "df0.head(5)"
      ],
      "metadata": {
        "colab": {
          "base_uri": "https://localhost:8080/",
          "height": 443
        },
        "id": "h7M7ggu_-KAn",
        "outputId": "c93d6783-78c8-4d29-f744-16a952ff3855"
      },
      "execution_count": 6,
      "outputs": [
        {
          "output_type": "execute_result",
          "data": {
            "text/plain": [
              "   age          workclass  fnlwgt   education  education-num  \\\n",
              "0   39          State-gov   77516   Bachelors             13   \n",
              "1   50   Self-emp-not-inc   83311   Bachelors             13   \n",
              "2   38            Private  215646     HS-grad              9   \n",
              "3   53            Private  234721        11th              7   \n",
              "4   28            Private  338409   Bachelors             13   \n",
              "\n",
              "        marital-status          occupation    relationship    race      sex  \\\n",
              "0        Never-married        Adm-clerical   Not-in-family   White     Male   \n",
              "1   Married-civ-spouse     Exec-managerial         Husband   White     Male   \n",
              "2             Divorced   Handlers-cleaners   Not-in-family   White     Male   \n",
              "3   Married-civ-spouse   Handlers-cleaners         Husband   Black     Male   \n",
              "4   Married-civ-spouse      Prof-specialty            Wife   Black   Female   \n",
              "\n",
              "   capital-gain  capital-loss  hours-per-week  native-country   Label  \n",
              "0          2174             0              40   United-States   <=50K  \n",
              "1             0             0              13   United-States   <=50K  \n",
              "2             0             0              40   United-States   <=50K  \n",
              "3             0             0              40   United-States   <=50K  \n",
              "4             0             0              40            Cuba   <=50K  "
            ],
            "text/html": [
              "\n",
              "  <div id=\"df-96fdd6f1-9efd-4933-bd82-3a26736f9a8d\">\n",
              "    <div class=\"colab-df-container\">\n",
              "      <div>\n",
              "<style scoped>\n",
              "    .dataframe tbody tr th:only-of-type {\n",
              "        vertical-align: middle;\n",
              "    }\n",
              "\n",
              "    .dataframe tbody tr th {\n",
              "        vertical-align: top;\n",
              "    }\n",
              "\n",
              "    .dataframe thead th {\n",
              "        text-align: right;\n",
              "    }\n",
              "</style>\n",
              "<table border=\"1\" class=\"dataframe\">\n",
              "  <thead>\n",
              "    <tr style=\"text-align: right;\">\n",
              "      <th></th>\n",
              "      <th>age</th>\n",
              "      <th>workclass</th>\n",
              "      <th>fnlwgt</th>\n",
              "      <th>education</th>\n",
              "      <th>education-num</th>\n",
              "      <th>marital-status</th>\n",
              "      <th>occupation</th>\n",
              "      <th>relationship</th>\n",
              "      <th>race</th>\n",
              "      <th>sex</th>\n",
              "      <th>capital-gain</th>\n",
              "      <th>capital-loss</th>\n",
              "      <th>hours-per-week</th>\n",
              "      <th>native-country</th>\n",
              "      <th>Label</th>\n",
              "    </tr>\n",
              "  </thead>\n",
              "  <tbody>\n",
              "    <tr>\n",
              "      <th>0</th>\n",
              "      <td>39</td>\n",
              "      <td>State-gov</td>\n",
              "      <td>77516</td>\n",
              "      <td>Bachelors</td>\n",
              "      <td>13</td>\n",
              "      <td>Never-married</td>\n",
              "      <td>Adm-clerical</td>\n",
              "      <td>Not-in-family</td>\n",
              "      <td>White</td>\n",
              "      <td>Male</td>\n",
              "      <td>2174</td>\n",
              "      <td>0</td>\n",
              "      <td>40</td>\n",
              "      <td>United-States</td>\n",
              "      <td>&lt;=50K</td>\n",
              "    </tr>\n",
              "    <tr>\n",
              "      <th>1</th>\n",
              "      <td>50</td>\n",
              "      <td>Self-emp-not-inc</td>\n",
              "      <td>83311</td>\n",
              "      <td>Bachelors</td>\n",
              "      <td>13</td>\n",
              "      <td>Married-civ-spouse</td>\n",
              "      <td>Exec-managerial</td>\n",
              "      <td>Husband</td>\n",
              "      <td>White</td>\n",
              "      <td>Male</td>\n",
              "      <td>0</td>\n",
              "      <td>0</td>\n",
              "      <td>13</td>\n",
              "      <td>United-States</td>\n",
              "      <td>&lt;=50K</td>\n",
              "    </tr>\n",
              "    <tr>\n",
              "      <th>2</th>\n",
              "      <td>38</td>\n",
              "      <td>Private</td>\n",
              "      <td>215646</td>\n",
              "      <td>HS-grad</td>\n",
              "      <td>9</td>\n",
              "      <td>Divorced</td>\n",
              "      <td>Handlers-cleaners</td>\n",
              "      <td>Not-in-family</td>\n",
              "      <td>White</td>\n",
              "      <td>Male</td>\n",
              "      <td>0</td>\n",
              "      <td>0</td>\n",
              "      <td>40</td>\n",
              "      <td>United-States</td>\n",
              "      <td>&lt;=50K</td>\n",
              "    </tr>\n",
              "    <tr>\n",
              "      <th>3</th>\n",
              "      <td>53</td>\n",
              "      <td>Private</td>\n",
              "      <td>234721</td>\n",
              "      <td>11th</td>\n",
              "      <td>7</td>\n",
              "      <td>Married-civ-spouse</td>\n",
              "      <td>Handlers-cleaners</td>\n",
              "      <td>Husband</td>\n",
              "      <td>Black</td>\n",
              "      <td>Male</td>\n",
              "      <td>0</td>\n",
              "      <td>0</td>\n",
              "      <td>40</td>\n",
              "      <td>United-States</td>\n",
              "      <td>&lt;=50K</td>\n",
              "    </tr>\n",
              "    <tr>\n",
              "      <th>4</th>\n",
              "      <td>28</td>\n",
              "      <td>Private</td>\n",
              "      <td>338409</td>\n",
              "      <td>Bachelors</td>\n",
              "      <td>13</td>\n",
              "      <td>Married-civ-spouse</td>\n",
              "      <td>Prof-specialty</td>\n",
              "      <td>Wife</td>\n",
              "      <td>Black</td>\n",
              "      <td>Female</td>\n",
              "      <td>0</td>\n",
              "      <td>0</td>\n",
              "      <td>40</td>\n",
              "      <td>Cuba</td>\n",
              "      <td>&lt;=50K</td>\n",
              "    </tr>\n",
              "  </tbody>\n",
              "</table>\n",
              "</div>\n",
              "      <button class=\"colab-df-convert\" onclick=\"convertToInteractive('df-96fdd6f1-9efd-4933-bd82-3a26736f9a8d')\"\n",
              "              title=\"Convert this dataframe to an interactive table.\"\n",
              "              style=\"display:none;\">\n",
              "        \n",
              "  <svg xmlns=\"http://www.w3.org/2000/svg\" height=\"24px\"viewBox=\"0 0 24 24\"\n",
              "       width=\"24px\">\n",
              "    <path d=\"M0 0h24v24H0V0z\" fill=\"none\"/>\n",
              "    <path d=\"M18.56 5.44l.94 2.06.94-2.06 2.06-.94-2.06-.94-.94-2.06-.94 2.06-2.06.94zm-11 1L8.5 8.5l.94-2.06 2.06-.94-2.06-.94L8.5 2.5l-.94 2.06-2.06.94zm10 10l.94 2.06.94-2.06 2.06-.94-2.06-.94-.94-2.06-.94 2.06-2.06.94z\"/><path d=\"M17.41 7.96l-1.37-1.37c-.4-.4-.92-.59-1.43-.59-.52 0-1.04.2-1.43.59L10.3 9.45l-7.72 7.72c-.78.78-.78 2.05 0 2.83L4 21.41c.39.39.9.59 1.41.59.51 0 1.02-.2 1.41-.59l7.78-7.78 2.81-2.81c.8-.78.8-2.07 0-2.86zM5.41 20L4 18.59l7.72-7.72 1.47 1.35L5.41 20z\"/>\n",
              "  </svg>\n",
              "      </button>\n",
              "      \n",
              "  <style>\n",
              "    .colab-df-container {\n",
              "      display:flex;\n",
              "      flex-wrap:wrap;\n",
              "      gap: 12px;\n",
              "    }\n",
              "\n",
              "    .colab-df-convert {\n",
              "      background-color: #E8F0FE;\n",
              "      border: none;\n",
              "      border-radius: 50%;\n",
              "      cursor: pointer;\n",
              "      display: none;\n",
              "      fill: #1967D2;\n",
              "      height: 32px;\n",
              "      padding: 0 0 0 0;\n",
              "      width: 32px;\n",
              "    }\n",
              "\n",
              "    .colab-df-convert:hover {\n",
              "      background-color: #E2EBFA;\n",
              "      box-shadow: 0px 1px 2px rgba(60, 64, 67, 0.3), 0px 1px 3px 1px rgba(60, 64, 67, 0.15);\n",
              "      fill: #174EA6;\n",
              "    }\n",
              "\n",
              "    [theme=dark] .colab-df-convert {\n",
              "      background-color: #3B4455;\n",
              "      fill: #D2E3FC;\n",
              "    }\n",
              "\n",
              "    [theme=dark] .colab-df-convert:hover {\n",
              "      background-color: #434B5C;\n",
              "      box-shadow: 0px 1px 3px 1px rgba(0, 0, 0, 0.15);\n",
              "      filter: drop-shadow(0px 1px 2px rgba(0, 0, 0, 0.3));\n",
              "      fill: #FFFFFF;\n",
              "    }\n",
              "  </style>\n",
              "\n",
              "      <script>\n",
              "        const buttonEl =\n",
              "          document.querySelector('#df-96fdd6f1-9efd-4933-bd82-3a26736f9a8d button.colab-df-convert');\n",
              "        buttonEl.style.display =\n",
              "          google.colab.kernel.accessAllowed ? 'block' : 'none';\n",
              "\n",
              "        async function convertToInteractive(key) {\n",
              "          const element = document.querySelector('#df-96fdd6f1-9efd-4933-bd82-3a26736f9a8d');\n",
              "          const dataTable =\n",
              "            await google.colab.kernel.invokeFunction('convertToInteractive',\n",
              "                                                     [key], {});\n",
              "          if (!dataTable) return;\n",
              "\n",
              "          const docLinkHtml = 'Like what you see? Visit the ' +\n",
              "            '<a target=\"_blank\" href=https://colab.research.google.com/notebooks/data_table.ipynb>data table notebook</a>'\n",
              "            + ' to learn more about interactive tables.';\n",
              "          element.innerHTML = '';\n",
              "          dataTable['output_type'] = 'display_data';\n",
              "          await google.colab.output.renderOutput(dataTable, element);\n",
              "          const docLink = document.createElement('div');\n",
              "          docLink.innerHTML = docLinkHtml;\n",
              "          element.appendChild(docLink);\n",
              "        }\n",
              "      </script>\n",
              "    </div>\n",
              "  </div>\n",
              "  "
            ]
          },
          "metadata": {},
          "execution_count": 6
        }
      ]
    },
    {
      "cell_type": "code",
      "source": [
        "mappings = {}\n",
        "for col_name in df0.columns:\n",
        "  if(df0[col_name].dtype == 'object'):\n",
        "    df0[col_name] = df0[col_name].astype('category')\n",
        "    df0[col_name], mapping_index = pd.Series(df0[col_name]).factorize()\n",
        "\n",
        "    mappings[col_name] = {}\n",
        "    for i in range(len(mapping_index.categories)):\n",
        "      mappings[col_name][i] = mapping_index.categories[i]\n",
        "  else:\n",
        "    mappings[col_name] = 'continuous'"
      ],
      "metadata": {
        "id": "_0ze6jX1-Ubh"
      },
      "execution_count": 7,
      "outputs": []
    },
    {
      "cell_type": "markdown",
      "source": [
        "## Univariate method\n",
        "  Focuses on removing values that fall far away from the median value for a single value. The evaluation metric is called the \"*Cleaning Parameter*\". This parameter will define which values to remove from the distribution. Choosing an aggressive cleaning parameter could remove diverse data. On the contrary, choosing too large of a cleaning parameter won't change much about the distribution."
      ],
      "metadata": {
        "id": "dfuf2d_BAoUe"
      }
    },
    {
      "cell_type": "code",
      "source": [
        "import numpy as np\n",
        "import matplotlib.pyplot as plt\n",
        "from scipy.interpolate import UnivariateSpline"
      ],
      "metadata": {
        "id": "4M7PJ4o8_sdq"
      },
      "execution_count": 1,
      "outputs": []
    },
    {
      "cell_type": "code",
      "source": [
        "x = np.linspace(-5,5,200)\n",
        "y = np.exp(-x**2) + np.random.randn(200)/10"
      ],
      "metadata": {
        "id": "5qwDInAk_uVw"
      },
      "execution_count": 3,
      "outputs": []
    },
    {
      "cell_type": "code",
      "source": [
        "s = UnivariateSpline(x,y, s=1)"
      ],
      "metadata": {
        "id": "G5EI0npm_8Qm"
      },
      "execution_count": 4,
      "outputs": []
    },
    {
      "cell_type": "code",
      "source": [
        "xs = np.linspace(-5,5,1000)\n",
        "ys = s(xs)"
      ],
      "metadata": {
        "id": "6kh2ZdzXCL2T"
      },
      "execution_count": 5,
      "outputs": []
    },
    {
      "cell_type": "code",
      "source": [
        "plt.plot(x,y,'.-')\n",
        "plt.plot(xs,ys)\n",
        "plt.show()"
      ],
      "metadata": {
        "colab": {
          "base_uri": "https://localhost:8080/",
          "height": 430
        },
        "id": "1nJX4d7iCRFn",
        "outputId": "3b0d6ee5-f899-4d4c-bae3-b40f60ecf7c9"
      },
      "execution_count": 6,
      "outputs": [
        {
          "output_type": "display_data",
          "data": {
            "text/plain": [
              "<Figure size 640x480 with 1 Axes>"
            ],
            "image/png": "[encoded data removed]"
          },
          "metadata": {}
        }
      ]
    },
    {
      "cell_type": "markdown",
      "source": [
        "Here's another really simple way to visualize the outliers in a dataset:\n",
        "https://www.itl.nist.gov/div898/handbook/prc/section1/prc16.htm.\n",
        "The following link is to an article that focuses on practical graphing techniques for\n",
        "multivariate problems:\n",
        "https://machinelearningmastery.com/visualize-machine-learning-data-python\u0002pandas/."
      ],
      "metadata": {
        "id": "l_oTgQTBCqVI"
      }
    },
    {
      "cell_type": "markdown",
      "source": [
        "## Balancing Data\n",
        "Balancing data and handling anomalous data are often thought of as the same process. In\n",
        "our case, data balancing involves understanding the techniques used to spread anomalous\n",
        "data without disrupting the underlying data distribution."
      ],
      "metadata": {
        "id": "D2qFQpDfCzDy"
      }
    },
    {
      "cell_type": "markdown",
      "source": [
        "Two predominant sets of class of techniques to fix imbalance are as follows:\n",
        "1. Sampling techniques\n",
        "2. Ensemble techniques\n",
        "\n",
        "These techniques focus on sampling the data in a constructive or destructive way to achieve\n",
        "a better balanced distribution or working on the learning side to ensemble multiple learners\n",
        "together to form a consensus on a problem set."
      ],
      "metadata": {
        "id": "QqkJB-e4DJQk"
      }
    },
    {
      "cell_type": "markdown",
      "source": [
        "### Sampling Techniques"
      ],
      "metadata": {
        "id": "cOwLtGsPDQyk"
      }
    },
    {
      "cell_type": "code",
      "source": [
        "\"\"\"\n",
        "  focuses on solving the issues through manipulation of the data-similar to removing\n",
        "  anomalous data, by modifying the data distribution to make sure that the data is balanced\n",
        "\n",
        "  Random Undersampling\n",
        "    Randomly undersample the majority class in a distribution to make it match the distribution of other minority classes\n",
        "    In generative paradigm, undersampling can bias the model to over-represent minority cases\n",
        "\"\"\"\n",
        "import matplotlib.pyplot as plt\n",
        "import numpy as np\n",
        "from sklearn.datasets import make_classification\n",
        "from sklearn.decomposition import PCA\n",
        "from imblearn.under_sampling import RandomUnderSampler\n"
      ],
      "metadata": {
        "id": "PzXYGAsRCYEB"
      },
      "execution_count": 7,
      "outputs": []
    },
    {
      "cell_type": "code",
      "source": [
        "X, y = make_classification(n_classes=2, class_sep=2, weights=[0.15,0.95], n_informative=3, n_redundant=1, flip_y=0, n_features=20, n_clusters_per_class=2, n_samples=1000, random_state=69)"
      ],
      "metadata": {
        "id": "fz3RPzBgEiLC"
      },
      "execution_count": 9,
      "outputs": []
    },
    {
      "cell_type": "code",
      "source": [
        "pca = PCA(n_components=3)\n",
        "X_vis = pca.fit_transform(X)"
      ],
      "metadata": {
        "id": "dDTt9sgTE_F_"
      },
      "execution_count": 11,
      "outputs": []
    },
    {
      "cell_type": "code",
      "source": [
        "rus = RandomUnderSampler(random_state = 69)\n",
        "X_resampled, y_resampled = rus.fit_resample(X, y)\n",
        "X_res_vis = pca.transform(X_resampled)"
      ],
      "metadata": {
        "id": "D5mTojZlFDqa"
      },
      "execution_count": 15,
      "outputs": []
    },
    {
      "cell_type": "code",
      "source": [
        "fig = plt.figure()\n",
        "ax = fig.add_subplot(1,1,1)\n",
        "\n",
        "idx_samples_removed = np.setdiff1d(np.arange(X_vis.shape[0]), rus.sample_indices_)\n",
        "\n",
        "idx_class_0 = y_resampled == 0\n",
        "plt.scatter(X_res_vis[idx_class_0,0], X_res_vis[idx_class_0,1], alpha = 0.8, label='Class #0')\n",
        "plt.scatter(X_res_vis[~idx_class_0,0], X_res_vis[~idx_class_0,1], alpha = 0.8, label='Class #1')\n",
        "plt.scatter(X_vis[idx_samples_removed,0], X_vis[idx_samples_removed,1], alpha=0.8, label=\"Removed Samples\")\n",
        "\n",
        "ax.spines['top'].set_visible(False)\n",
        "ax.spines['right'].set_visible(False)\n",
        "ax.get_xaxis().tick_bottom()\n",
        "ax.get_yaxis().tick_left()\n",
        "ax.spines['left'].set_position(('outward',10))\n",
        "ax.spines['bottom'].set_position(('outward',10))\n",
        "ax.set_xlim([-6,6])\n",
        "ax.set_ylim([-6,6])\n",
        "\n",
        "plt.title('Under-sampling using random under-sampling')\n",
        "plt.legend()\n",
        "plt.tight_layout()\n",
        "plt.show()"
      ],
      "metadata": {
        "colab": {
          "base_uri": "https://localhost:8080/",
          "height": 487
        },
        "id": "9HeEKeXPFlcZ",
        "outputId": "1b6d2878-775a-4a85-e66a-7a1c3727a7d1"
      },
      "execution_count": 20,
      "outputs": [
        {
          "output_type": "display_data",
          "data": {
            "text/plain": [
              "<Figure size 640x480 with 1 Axes>"
            ],
            "image/png": "[encoded data removed]"
          },
          "metadata": {}
        }
      ]
    },
    {
      "cell_type": "code",
      "source": [
        "\"\"\"\n",
        "  Random Oversampling\n",
        "    increase the number of instances in the minority classes by either randomly duplicating instances of the minority classes until\n",
        "    they match the distribution of the majority class\n",
        "    The sampling can become biased depending on the technique and so it's important to understand the underlying strategy\n",
        "  Synthetic Minority Oversampling Technique (SMOTE)\n",
        "    involve creating synthetic examples of the minority class through this technique\n",
        "    sometimes simple duplicating minority examples, or reducing majority examples is not enough, SMOTE bridges this special case\n",
        "    This website offers a solid explanation of how SMOTE works:\n",
        "    https://www.cs.cmu.edu/afs/cs/project/jair/pub/volume16/chawla02a-html/chawla2002.html.\n",
        "    And there is a simple implementation in the scikit-learn imbalanced library:\n",
        "    http://contrib.scikit-learn.org/imbalanced-learn/stable/generated/imblearn.over_sampling.SMOTE.html.\n",
        "    Finally, check out the imbalanced library here:\n",
        "    http://contrib.scikit-learn.org/imbalanced-learn/stable/index.html.\n",
        "\"\"\"\n",
        "# import imblearn #for balancing data"
      ],
      "metadata": {
        "id": "pYy_Ey1lHeUo"
      },
      "execution_count": null,
      "outputs": []
    },
    {
      "cell_type": "markdown",
      "source": [
        "### Ensemble Tecniques"
      ],
      "metadata": {
        "id": "FhbBs3NeJ289"
      }
    },
    {
      "cell_type": "markdown",
      "source": [
        "Using multiple learners in an ensemble (group) to come to a combined output. Obviously, this is going to be harder in a generative paradigm.\n",
        "\n",
        "1. Bagging\n",
        "\n",
        "  works by sampling a smaller set of data and matching the distribution of the greater set of data-the algorithms are then trained on these smaller sets and later fused to form a single decision. Bagging will only help with learners that are capable-learning a bunch of bad models will lead to bad results.\n",
        "2. Boosting\n",
        "\n",
        "  works by taking weak learners and combining their decisions or outputs to produce a strong output. Boosting will weight the outputs of the different learners to improve the output of the ensemble until some stopping criteria is met.\n",
        "\n",
        "3. AdaBoost\n",
        "\n",
        "  Adaptive Boosting takes boosting and applies rules to the boosting step. By adding simple rules, the ensemble is allowed to adapt to different anomalies to predict. This technique can be sensitive to the rule set and extreme outliers in the data.\n",
        "\n",
        "\n"
      ],
      "metadata": {
        "id": "wDMifoFRRR6C"
      }
    },
    {
      "cell_type": "markdown",
      "source": [
        "## Data Augmentation\n",
        "One image can be altered or corrupted to encourage deep learning techniques to generalize for the objective, rather than focusing on single features.\n",
        "\n",
        "Augmentations will force learners to generalize"
      ],
      "metadata": {
        "id": "b7T96b_3T7UG"
      }
    },
    {
      "cell_type": "code",
      "source": [
        "import imgaug as ia\n",
        "from imgaug import augmenters as iaa\n",
        "import numpy as np"
      ],
      "metadata": {
        "id": "SdoobxKwJ0tw"
      },
      "execution_count": 22,
      "outputs": []
    },
    {
      "cell_type": "code",
      "source": [
        "ia.seed(69)"
      ],
      "metadata": {
        "id": "_JnBNAU3UzdP"
      },
      "execution_count": 23,
      "outputs": []
    },
    {
      "cell_type": "code",
      "source": [
        "# example batch of 100 images\n",
        "images = np.array(\n",
        "    [ia.quokka(size=(64,64)) for _ in range(100)],\n",
        "    dtype=np.uint8\n",
        ")"
      ],
      "metadata": {
        "id": "FTzEXKdKU2yx"
      },
      "execution_count": 25,
      "outputs": []
    },
    {
      "cell_type": "code",
      "source": [
        "#transformer function by specifying the different augmentations\n",
        "seq = iaa.Sequential([#Horizontal flips\n",
        "                      iaa.Fliplr(0.5),\n",
        "                      #random crops\n",
        "                      iaa.Crop(percent=(0,0.1)),\n",
        "                      #Gaussian Blur for 50% of the images\n",
        "                      iaa.Sometimes(0.5,iaa.GaussianBlur(sigma=(0,0.5))),\n",
        "                      # Strengthen or weaken the contrast in each image\n",
        "                      iaa.ContrastNormalization((0.75,1.5)),\n",
        "                      #add gaussian noise\n",
        "                      iaa.AdditiveGaussianNoise(loc=0,scale=(0.0,0.05*255),per_channel=0.5),\n",
        "                      #make some images brighter and some darker\n",
        "                      iaa.Multiply((0.8,1.2), per_channel=0.2),\n",
        "                      #apply affine transformation to each image\n",
        "                      iaa.Affine(\n",
        "                          scale={\"x\":(0.5,1.5),\"y\":(0.5,1.5)},\n",
        "                          translate_percent = {\"x\":(-0.5,0.5), \"y\":(-0.5,0.5)},\n",
        "                          rotate = (-10,10),\n",
        "                          shear=(-10,10)\n",
        "                      )\n",
        "                      ], random_order=True)"
      ],
      "metadata": {
        "colab": {
          "base_uri": "https://localhost:8080/"
        },
        "id": "yIlC0wotV0VT",
        "outputId": "2d1325a2-b980-41cd-b042-d3594fc2bc6d"
      },
      "execution_count": 26,
      "outputs": [
        {
          "output_type": "stream",
          "name": "stderr",
          "text": [
            "/usr/local/lib/python3.10/dist-packages/imgaug/imgaug.py:184: DeprecationWarning: Function `ContrastNormalization()` is deprecated. Use `imgaug.contrast.LinearContrast` instead.\n",
            "  warn_deprecated(msg, stacklevel=3)\n"
          ]
        }
      ]
    },
    {
      "cell_type": "code",
      "source": [
        "images_aug = seq.augment_images(images)\n",
        "seq.draw_grid(images[0], cols=8, rows=8)"
      ],
      "metadata": {
        "id": "39Zz_lzKX16H"
      },
      "execution_count": null,
      "outputs": []
    },
    {
      "cell_type": "code",
      "source": [
        "%matplotlib inline"
      ],
      "metadata": {
        "id": "y36QbxfVYCoE"
      },
      "execution_count": 35,
      "outputs": []
    },
    {
      "cell_type": "code",
      "source": [
        "images_aug.shape"
      ],
      "metadata": {
        "colab": {
          "base_uri": "https://localhost:8080/"
        },
        "id": "A2tltQSsgUtd",
        "outputId": "20fb5a17-fd5f-45ee-9a0e-719e44f195ed"
      },
      "execution_count": 42,
      "outputs": [
        {
          "output_type": "execute_result",
          "data": {
            "text/plain": [
              "(100, 64, 64, 3)"
            ]
          },
          "metadata": {},
          "execution_count": 42
        }
      ]
    },
    {
      "cell_type": "code",
      "source": [
        "plt.imshow(images_aug[42])\n",
        "plt.show()"
      ],
      "metadata": {
        "colab": {
          "base_uri": "https://localhost:8080/",
          "height": 432
        },
        "id": "N-e6RI10f8C7",
        "outputId": "8e01aaa4-bc5c-4fe6-8e65-cf0d738d89e9"
      },
      "execution_count": 46,
      "outputs": [
        {
          "output_type": "display_data",
          "data": {
            "text/plain": [
              "<Figure size 640x480 with 1 Axes>"
            ],
            "image/png": "[encoded data removed]"
          },
          "metadata": {}
        }
      ]
    },
    {
      "cell_type": "markdown",
      "source": [
        "Data augmentation, however- that is randomly chosen without benchmarks\n",
        "for your learners- can lead to decreased performance for the learners in the long run.\n"
      ],
      "metadata": {
        "id": "E1z2YJiJpD2l"
      }
    },
    {
      "cell_type": "code",
      "source": [],
      "metadata": {
        "id": "xfQ7wU8SgJAJ"
      },
      "execution_count": null,
      "outputs": []
    }
  ]
}